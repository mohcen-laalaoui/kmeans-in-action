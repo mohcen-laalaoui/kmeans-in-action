{
 "cells": [
  {
   "cell_type": "markdown",
   "id": "5630d294-7fba-4be0-abf7-18c54a39abb3",
   "metadata": {},
   "source": [
    "## **Customer Segmentation Using K-Means Clustering**"
   ]
  },
  {
   "cell_type": "markdown",
   "id": "d2f4337b-93a4-4ac4-938c-9cfa22afafe9",
   "metadata": {},
   "source": [
    "### Import Libraries"
   ]
  },
  {
   "cell_type": "code",
   "execution_count": 1,
   "id": "6e79a36e-ee6a-4414-b9bd-70cf7c3c13f9",
   "metadata": {},
   "outputs": [],
   "source": [
    "import numpy as np\n",
    "import pandas as pd \n",
    "import torch\n",
    "import matplotlib.pyplot as plt"
   ]
  },
  {
   "cell_type": "markdown",
   "id": "6204c720-a3b8-4585-a9eb-150dba6e137a",
   "metadata": {},
   "source": [
    "### Creating a synthetic dataset"
   ]
  },
  {
   "cell_type": "code",
   "execution_count": 2,
   "id": "95e2e95b-e992-4123-8162-507731b4289c",
   "metadata": {},
   "outputs": [],
   "source": [
    "data = {\n",
    "    'Customer ID': np.arange(1, 201),\n",
    "    'Age': np.random.randint(18, 70, 200),\n",
    "    'Annual Income (k$)': np.random.randint(15, 150, 200),\n",
    "    'Spending Score (1-100)': np.random.randint(1, 100, 200)\n",
    "}"
   ]
  },
  {
   "cell_type": "code",
   "execution_count": 3,
   "id": "87844bf2-24ed-4b82-9ce1-82c131e9f4c8",
   "metadata": {},
   "outputs": [],
   "source": [
    "df = pd.DataFrame(data)"
   ]
  },
  {
   "cell_type": "code",
   "execution_count": 4,
   "id": "f712cbed-50b4-4ef7-82ab-2e46cc63c2fa",
   "metadata": {},
   "outputs": [
    {
     "data": {
      "text/html": [
       "<div>\n",
       "<style scoped>\n",
       "    .dataframe tbody tr th:only-of-type {\n",
       "        vertical-align: middle;\n",
       "    }\n",
       "\n",
       "    .dataframe tbody tr th {\n",
       "        vertical-align: top;\n",
       "    }\n",
       "\n",
       "    .dataframe thead th {\n",
       "        text-align: right;\n",
       "    }\n",
       "</style>\n",
       "<table border=\"1\" class=\"dataframe\">\n",
       "  <thead>\n",
       "    <tr style=\"text-align: right;\">\n",
       "      <th></th>\n",
       "      <th>Customer ID</th>\n",
       "      <th>Age</th>\n",
       "      <th>Annual Income (k$)</th>\n",
       "      <th>Spending Score (1-100)</th>\n",
       "    </tr>\n",
       "  </thead>\n",
       "  <tbody>\n",
       "    <tr>\n",
       "      <th>0</th>\n",
       "      <td>1</td>\n",
       "      <td>61</td>\n",
       "      <td>42</td>\n",
       "      <td>83</td>\n",
       "    </tr>\n",
       "    <tr>\n",
       "      <th>1</th>\n",
       "      <td>2</td>\n",
       "      <td>56</td>\n",
       "      <td>98</td>\n",
       "      <td>21</td>\n",
       "    </tr>\n",
       "    <tr>\n",
       "      <th>2</th>\n",
       "      <td>3</td>\n",
       "      <td>41</td>\n",
       "      <td>118</td>\n",
       "      <td>54</td>\n",
       "    </tr>\n",
       "    <tr>\n",
       "      <th>3</th>\n",
       "      <td>4</td>\n",
       "      <td>33</td>\n",
       "      <td>145</td>\n",
       "      <td>95</td>\n",
       "    </tr>\n",
       "    <tr>\n",
       "      <th>4</th>\n",
       "      <td>5</td>\n",
       "      <td>22</td>\n",
       "      <td>21</td>\n",
       "      <td>95</td>\n",
       "    </tr>\n",
       "  </tbody>\n",
       "</table>\n",
       "</div>"
      ],
      "text/plain": [
       "   Customer ID  Age  Annual Income (k$)  Spending Score (1-100)\n",
       "0            1   61                  42                      83\n",
       "1            2   56                  98                      21\n",
       "2            3   41                 118                      54\n",
       "3            4   33                 145                      95\n",
       "4            5   22                  21                      95"
      ]
     },
     "execution_count": 4,
     "metadata": {},
     "output_type": "execute_result"
    }
   ],
   "source": [
    "df.head()"
   ]
  },
  {
   "cell_type": "code",
   "execution_count": 5,
   "id": "fc6d2f88-2432-416c-a3e4-43045ed953ab",
   "metadata": {},
   "outputs": [
    {
     "data": {
      "text/html": [
       "<div>\n",
       "<style scoped>\n",
       "    .dataframe tbody tr th:only-of-type {\n",
       "        vertical-align: middle;\n",
       "    }\n",
       "\n",
       "    .dataframe tbody tr th {\n",
       "        vertical-align: top;\n",
       "    }\n",
       "\n",
       "    .dataframe thead th {\n",
       "        text-align: right;\n",
       "    }\n",
       "</style>\n",
       "<table border=\"1\" class=\"dataframe\">\n",
       "  <thead>\n",
       "    <tr style=\"text-align: right;\">\n",
       "      <th></th>\n",
       "      <th>Customer ID</th>\n",
       "      <th>Age</th>\n",
       "      <th>Annual Income (k$)</th>\n",
       "      <th>Spending Score (1-100)</th>\n",
       "    </tr>\n",
       "  </thead>\n",
       "  <tbody>\n",
       "    <tr>\n",
       "      <th>count</th>\n",
       "      <td>200.000000</td>\n",
       "      <td>200.000000</td>\n",
       "      <td>200.000000</td>\n",
       "      <td>200.000000</td>\n",
       "    </tr>\n",
       "    <tr>\n",
       "      <th>mean</th>\n",
       "      <td>100.500000</td>\n",
       "      <td>41.740000</td>\n",
       "      <td>81.095000</td>\n",
       "      <td>51.940000</td>\n",
       "    </tr>\n",
       "    <tr>\n",
       "      <th>std</th>\n",
       "      <td>57.879185</td>\n",
       "      <td>15.103742</td>\n",
       "      <td>39.974187</td>\n",
       "      <td>29.071328</td>\n",
       "    </tr>\n",
       "    <tr>\n",
       "      <th>min</th>\n",
       "      <td>1.000000</td>\n",
       "      <td>18.000000</td>\n",
       "      <td>15.000000</td>\n",
       "      <td>2.000000</td>\n",
       "    </tr>\n",
       "    <tr>\n",
       "      <th>25%</th>\n",
       "      <td>50.750000</td>\n",
       "      <td>28.000000</td>\n",
       "      <td>43.000000</td>\n",
       "      <td>26.500000</td>\n",
       "    </tr>\n",
       "    <tr>\n",
       "      <th>50%</th>\n",
       "      <td>100.500000</td>\n",
       "      <td>39.500000</td>\n",
       "      <td>80.000000</td>\n",
       "      <td>51.500000</td>\n",
       "    </tr>\n",
       "    <tr>\n",
       "      <th>75%</th>\n",
       "      <td>150.250000</td>\n",
       "      <td>55.000000</td>\n",
       "      <td>116.250000</td>\n",
       "      <td>78.000000</td>\n",
       "    </tr>\n",
       "    <tr>\n",
       "      <th>max</th>\n",
       "      <td>200.000000</td>\n",
       "      <td>69.000000</td>\n",
       "      <td>149.000000</td>\n",
       "      <td>99.000000</td>\n",
       "    </tr>\n",
       "  </tbody>\n",
       "</table>\n",
       "</div>"
      ],
      "text/plain": [
       "       Customer ID         Age  Annual Income (k$)  Spending Score (1-100)\n",
       "count   200.000000  200.000000          200.000000              200.000000\n",
       "mean    100.500000   41.740000           81.095000               51.940000\n",
       "std      57.879185   15.103742           39.974187               29.071328\n",
       "min       1.000000   18.000000           15.000000                2.000000\n",
       "25%      50.750000   28.000000           43.000000               26.500000\n",
       "50%     100.500000   39.500000           80.000000               51.500000\n",
       "75%     150.250000   55.000000          116.250000               78.000000\n",
       "max     200.000000   69.000000          149.000000               99.000000"
      ]
     },
     "execution_count": 5,
     "metadata": {},
     "output_type": "execute_result"
    }
   ],
   "source": [
    "df.describe()"
   ]
  },
  {
   "cell_type": "code",
   "execution_count": 6,
   "id": "98e9cb88-1e80-4ea6-85cd-25bd08582ffd",
   "metadata": {},
   "outputs": [
    {
     "name": "stdout",
     "output_type": "stream",
     "text": [
      "<class 'pandas.core.frame.DataFrame'>\n",
      "RangeIndex: 200 entries, 0 to 199\n",
      "Data columns (total 4 columns):\n",
      " #   Column                  Non-Null Count  Dtype\n",
      "---  ------                  --------------  -----\n",
      " 0   Customer ID             200 non-null    int64\n",
      " 1   Age                     200 non-null    int32\n",
      " 2   Annual Income (k$)      200 non-null    int32\n",
      " 3   Spending Score (1-100)  200 non-null    int32\n",
      "dtypes: int32(3), int64(1)\n",
      "memory usage: 4.0 KB\n"
     ]
    }
   ],
   "source": [
    "df.info()"
   ]
  },
  {
   "cell_type": "code",
   "execution_count": 7,
   "id": "668357c2-d6ba-45c8-95e0-5b637e4a5a33",
   "metadata": {},
   "outputs": [
    {
     "data": {
      "text/plain": [
       "np.int64(0)"
      ]
     },
     "execution_count": 7,
     "metadata": {},
     "output_type": "execute_result"
    }
   ],
   "source": [
    "df.duplicated().sum()"
   ]
  },
  {
   "cell_type": "code",
   "execution_count": 8,
   "id": "9b36e9d6-3cc6-4f4b-a28e-a94fafeba77b",
   "metadata": {},
   "outputs": [],
   "source": [
    "X = torch.tensor(np.array(list(zip(data['Age'], data['Annual Income (k$)'], data['Spending Score (1-100)']))), dtype=torch.float32)"
   ]
  },
  {
   "cell_type": "code",
   "execution_count": 9,
   "id": "8a21a478-f66d-4f37-be72-0eb41ac8664e",
   "metadata": {},
   "outputs": [
    {
     "name": "stdout",
     "output_type": "stream",
     "text": [
      "X Shape: torch.Size([200, 3])\n"
     ]
    }
   ],
   "source": [
    "if isinstance(X, np.ndarray):\n",
    "    X = torch.from_numpy(X).float()  \n",
    "elif isinstance(X, torch.Tensor):\n",
    "    X = X.clone().detach().float() \n",
    "\n",
    "print(\"X Shape:\", X.shape)"
   ]
  },
  {
   "cell_type": "markdown",
   "id": "7e333f2c-76ad-420e-ab01-fd90159a0909",
   "metadata": {},
   "source": [
    "### Generate synthetic 2D data"
   ]
  },
  {
   "cell_type": "code",
   "execution_count": 10,
   "id": "10a0518a-0064-41cc-8aae-140bdce2d144",
   "metadata": {},
   "outputs": [
    {
     "data": {
      "text/plain": [
       "<torch._C.Generator at 0x2df3d24f9d0>"
      ]
     },
     "execution_count": 10,
     "metadata": {},
     "output_type": "execute_result"
    }
   ],
   "source": [
    "torch.manual_seed(42)"
   ]
  },
  {
   "cell_type": "code",
   "execution_count": 11,
   "id": "f444ba35-4485-4ddd-afcd-1aaa424b5540",
   "metadata": {},
   "outputs": [],
   "source": [
    "num_samples = 200\n",
    "num_clusters = 2"
   ]
  },
  {
   "cell_type": "markdown",
   "id": "bae2f834-5ee1-453d-be17-5245389086f1",
   "metadata": {},
   "source": [
    "### Define the Model"
   ]
  },
  {
   "cell_type": "code",
   "execution_count": 31,
   "id": "9a045659-6567-40df-8343-d6b407e333f8",
   "metadata": {},
   "outputs": [],
   "source": [
    "class KMeansClustering:\n",
    "    def __init__(self, num_clusters, num_samples, random_state=42):\n",
    "        self.n_clusters = num_clusters\n",
    "        self.max_iters = num_samples\n",
    "        self.random_state = random_state\n",
    "        self.centroids = None\n",
    "\n",
    "    def initialize_centroids(self, X):\n",
    "        n_samples = X.shape[0]\n",
    "        if self.random_state is not None:\n",
    "            torch.manual_seed(self.random_state)\n",
    "        indices = torch.randint(0, n_samples, (self.n_clusters,))\n",
    "        self.centroids = X[indices]\n",
    "\n",
    "    def compute_distances(self, X):\n",
    "        X_expanded = X.unsqueeze(1)\n",
    "        centroids_expanded = self.centroids.unsqueeze(0)\n",
    "        return torch.norm(X_expanded - centroids_expanded, dim=2)\n",
    "\n",
    "    def assign_clusters(self, X):\n",
    "        distances = self.compute_distances(X)\n",
    "        return torch.argmin(distances, dim=1)\n",
    "\n",
    "    def update_centroids(self, X, labels):\n",
    "        new_centroids = []\n",
    "        for i in range(self.n_clusters):\n",
    "            mask = labels == i\n",
    "            cluster_points = X[mask]\n",
    "            if len(cluster_points) > 0:\n",
    "                new_centroids.append(cluster_points.mean(dim=0))\n",
    "            else:\n",
    "                new_centroids.append(self.centroids[i])\n",
    "        self.centroids = torch.stack(new_centroids)\n",
    "\n",
    "    def fit(self, X):\n",
    "        self.initialize_centroids(X)\n",
    "        for _ in range(self.max_iters):\n",
    "            labels = self.assign_clusters(X)\n",
    "            prev_centroids = self.centroids.clone()\n",
    "            self.update_centroids(X, labels)\n",
    "            if torch.allclose(prev_centroids, self.centroids, atol=1e-4):\n",
    "                break\n",
    "        return labels"
   ]
  },
  {
   "cell_type": "code",
   "execution_count": 32,
   "id": "750a9b35-06d7-4a8e-a6ab-c814d10b1373",
   "metadata": {},
   "outputs": [
    {
     "name": "stdout",
     "output_type": "stream",
     "text": [
      "Final Cluster Labels: tensor([1, 0, 0, 0, 1, 2, 2, 1, 2, 0, 1, 1, 1, 0, 1, 0, 0, 0, 1, 2, 0, 1, 1, 2,\n",
      "        1, 0, 0, 1, 2, 1, 2, 0, 2, 0, 0, 0, 2, 1, 1, 0, 0, 2, 1, 2, 0, 0, 0, 0,\n",
      "        2, 0, 0, 0, 2, 1, 1, 1, 0, 2, 0, 0, 0, 0, 1, 2, 2, 0, 0, 1, 1, 2, 2, 2,\n",
      "        2, 1, 2, 1, 0, 0, 1, 2, 1, 2, 1, 2, 0, 2, 0, 1, 0, 0, 1, 1, 1, 1, 2, 2,\n",
      "        2, 0, 0, 1, 1, 1, 0, 1, 1, 0, 0, 0, 2, 2, 2, 1, 0, 1, 0, 1, 0, 2, 1, 1,\n",
      "        1, 2, 2, 0, 0, 0, 0, 0, 1, 2, 0, 2, 2, 2, 0, 2, 0, 2, 0, 1, 0, 0, 0, 1,\n",
      "        0, 0, 1, 0, 2, 1, 0, 1, 0, 1, 2, 0, 2, 2, 2, 1, 0, 1, 1, 2, 2, 0, 0, 1,\n",
      "        0, 0, 0, 2, 0, 0, 2, 2, 0, 0, 2, 1, 0, 1, 2, 0, 1, 0, 2, 0, 2, 1, 0, 0,\n",
      "        1, 1, 2, 0, 0, 2, 1, 0])\n",
      "Final Centroids: tensor([[ 39.7229, 121.5783,  46.3855],\n",
      "        [ 42.5410,  56.0820,  81.3771],\n",
      "        [ 43.8571,  48.3393,  28.1071]])\n"
     ]
    }
   ],
   "source": [
    "num_samples = X.shape[0]  \n",
    "kmeans = KMeansClustering(num_clusters=3, num_samples=num_samples)\n",
    "labels = kmeans.fit(X)\n",
    "print(\"Final Cluster Labels:\", labels)\n",
    "print(\"Final Centroids:\", kmeans.centroids)"
   ]
  },
  {
   "cell_type": "markdown",
   "id": "98bd04cb-b441-41b9-9819-2d8b3686fdfe",
   "metadata": {},
   "source": [
    "### Visualizing the Clusters"
   ]
  },
  {
   "cell_type": "code",
   "execution_count": 34,
   "id": "586d6ce2-4956-42ae-a1b5-33abc1c5e333",
   "metadata": {},
   "outputs": [
    {
     "data": {
      "image/png": "[encoded data removed]",
      "text/plain": [
       "<Figure size 640x480 with 2 Axes>"
      ]
     },
     "metadata": {},
     "output_type": "display_data"
    }
   ],
   "source": [
    "df['Cluster'] = labels.numpy()\n",
    "plt.scatter(df['Annual Income (k$)'], df['Spending Score (1-100)'], c=df['Cluster'], cmap='viridis')\n",
    "plt.xlabel('Annual Income (k$)')\n",
    "plt.ylabel('Spending Score (1-100)')\n",
    "plt.title('Customer Segmentation using K-Means')\n",
    "plt.colorbar(label='Cluster')\n",
    "plt.show()"
   ]
  },
  {
   "cell_type": "code",
   "execution_count": null,
   "id": "32848f20-fd59-43fc-9195-c16453e2ed22",
   "metadata": {},
   "outputs": [],
   "source": []
  }
 ],
 "metadata": {
  "kernelspec": {
   "display_name": "Python 3 (ipykernel)",
   "language": "python",
   "name": "python3"
  },
  "language_info": {
   "codemirror_mode": {
    "name": "ipython",
    "version": 3
   },
   "file_extension": ".py",
   "mimetype": "text/x-python",
   "name": "python",
   "nbconvert_exporter": "python",
   "pygments_lexer": "ipython3",
   "version": "3.13.1"
  }
 },
 "nbformat": 4,
 "nbformat_minor": 5
}
